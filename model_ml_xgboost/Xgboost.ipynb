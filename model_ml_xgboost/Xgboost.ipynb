{
 "cells": [
  {
   "cell_type": "markdown",
   "id": "48cdefa8",
   "metadata": {},
   "source": [
    "## Xgboost with vf\n",
    "training_data.csv (5/3 - 5/21)  \n",
    "validation_data_without_sbi.csv (5/22 - 5/24 w/o sbi)  \n",
    "validation_data_with_sbi.csv (5/22 - 5/24 w/ sbi)  "
   ]
  },
  {
   "cell_type": "code",
   "execution_count": 8,
   "id": "9d7d073c",
   "metadata": {},
   "outputs": [
    {
     "name": "stdout",
     "output_type": "stream",
     "text": [
      "Average MSE: 6.02052936413026\n",
      "Average RMSE: 2.453615654972574\n"
     ]
    }
   ],
   "source": [
    "import pandas as pd\n",
    "import xgboost as xgb\n",
    "from sklearn.model_selection import KFold\n",
    "from sklearn.metrics import mean_squared_error\n",
    "from math import sqrt\n",
    "\n",
    "# Load the CSV file\n",
    "file_path = 'training_data.csv'  # Replace with the path to your training data file\n",
    "df = pd.read_csv(file_path)\n",
    "\n",
    "# Feature columns and target column\n",
    "features = ['sno', 'act', 'tot', 'lat', 'lng', 'date_value', 'time', 'week', 'popularity', 'rainfall', 'see_rate_value', 'mrt_distances']\n",
    "X = df[features]\n",
    "y = df['sbi']  # Target column\n",
    "\n",
    "# XGBoost parameters\n",
    "params = {\n",
    "    'max_depth': 12,  # Maximum depth of the tree\n",
    "    'eta': 0.1,      # Learning rate\n",
    "    'objective': 'reg:squarederror',  # Regression task\n",
    "}\n",
    "\n",
    "# Five-fold cross-validation\n",
    "kf = KFold(n_splits=5, shuffle=True, random_state=42)\n",
    "mse_scores = []\n",
    "rmse_scores = []\n",
    "\n",
    "for train_index, test_index in kf.split(X):\n",
    "    X_train, X_test = X.iloc[train_index], X.iloc[test_index]\n",
    "    y_train, y_test = y.iloc[train_index], y.iloc[test_index]\n",
    "\n",
    "    dtrain = xgb.DMatrix(X_train, label=y_train)\n",
    "    dtest = xgb.DMatrix(X_test, label=y_test)\n",
    "\n",
    "    # Train the model\n",
    "    bst = xgb.train(params, dtrain, num_boost_round=150)\n",
    "\n",
    "    # Predict\n",
    "    y_pred = bst.predict(dtest)\n",
    "\n",
    "    # Evaluate\n",
    "    mse = mean_squared_error(y_test, y_pred)\n",
    "    rmse = sqrt(mse)  # Calculate root mean squared error\n",
    "    mse_scores.append(mse)\n",
    "    rmse_scores.append(rmse)\n",
    "\n",
    "# Save the model\n",
    "bst.save_model('xgboost_model.json')\n",
    "\n",
    "# Average MSE and RMSE\n",
    "average_mse = sum(mse_scores) / len(mse_scores)\n",
    "average_rmse = sum(rmse_scores) / len(rmse_scores)\n",
    "print(f\"Average MSE: {average_mse}\")\n",
    "print(f\"Average RMSE: {average_rmse}\")\n"
   ]
  },
  {
   "cell_type": "markdown",
   "id": "0619449a",
   "metadata": {},
   "source": [
    "## Validation with unseen dataset"
   ]
  },
  {
   "cell_type": "code",
   "execution_count": 9,
   "id": "434468e8",
   "metadata": {},
   "outputs": [
    {
     "name": "stdout",
     "output_type": "stream",
     "text": [
      "MSE: 69.86700448839885\n",
      "RMSE: 8.358648484557706\n",
      "The prediction results of the validation data have been saved to: val_with_predictions.csv\n"
     ]
    }
   ],
   "source": [
    "import pandas as pd\n",
    "import xgboost as xgb\n",
    "from sklearn.metrics import mean_squared_error\n",
    "from math import sqrt\n",
    "\n",
    "# Load the model\n",
    "bst = xgb.Booster()\n",
    "bst.load_model('xgboost_model.json')\n",
    "\n",
    "# Load new data (without sbi)\n",
    "pri_file_path = 'validation_data_without_sbi.csv'\n",
    "pri_df = pd.read_csv(pri_file_path)\n",
    "\n",
    "# Load validation data (with sbi)\n",
    "val_file_path = 'validation_data_with_sbi.csv'\n",
    "val_df = pd.read_csv(val_file_path)\n",
    "\n",
    "# Feature columns\n",
    "features = ['sno', 'act', 'tot', 'lat', 'lng', 'date_value', 'time', 'week', 'popularity', 'rainfall', 'see_rate_value', 'mrt_distances']\n",
    "\n",
    "# Predict on new data\n",
    "pri_X = pri_df[features]\n",
    "dpri = xgb.DMatrix(pri_X)\n",
    "pri_predictions = bst.predict(dpri)\n",
    "\n",
    "# Predict on validation data and calculate accuracy\n",
    "val_X = val_df[features]\n",
    "val_y = val_df['sbi']\n",
    "dval = xgb.DMatrix(val_X)\n",
    "val_predictions = bst.predict(dval)\n",
    "\n",
    "# Calculate MSE and RMSE\n",
    "mse = mean_squared_error(val_y, val_predictions)\n",
    "rmse = sqrt(mse)\n",
    "print(f\"MSE: {mse}\")\n",
    "print(f\"RMSE: {rmse}\")\n",
    "\n",
    "# Optional: Save the prediction results to a CSV file\n",
    "val_df['predicted_sbi'] = val_predictions\n",
    "val_df.to_csv('val_with_predictions.csv', index=False)\n",
    "print(\"The prediction results of the validation data have been saved to: val_with_predictions.csv\")\n"
   ]
  },
  {
   "cell_type": "code",
   "execution_count": null,
   "id": "a8f29ae8",
   "metadata": {},
   "outputs": [],
   "source": []
  }
 ],
 "metadata": {
  "kernelspec": {
   "display_name": "Python 3 (ipykernel)",
   "language": "python",
   "name": "python3"
  },
  "language_info": {
   "codemirror_mode": {
    "name": "ipython",
    "version": 3
   },
   "file_extension": ".py",
   "mimetype": "text/x-python",
   "name": "python",
   "nbconvert_exporter": "python",
   "pygments_lexer": "ipython3",
   "version": "3.10.12"
  }
 },
 "nbformat": 4,
 "nbformat_minor": 5
}
