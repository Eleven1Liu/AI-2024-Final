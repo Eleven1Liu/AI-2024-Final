{
 "cells": [
  {
   "cell_type": "code",
   "execution_count": 1,
   "id": "12d4e3c0-c5b8-4036-a9d0-7e0ffd9e6bb6",
   "metadata": {},
   "outputs": [],
   "source": [
    "import copy\n",
    "import collections\n",
    "import glob\n",
    "import re\n",
    "\n",
    "import pandas as pd\n",
    "from tqdm import tqdm\n",
    "import matplotlib.pyplot as plt\n",
    "\n",
    "from tqdm.notebook import tqdm"
   ]
  },
  {
   "cell_type": "markdown",
   "id": "3ed1744f-fb87-48e2-bdf8-e4db5d023338",
   "metadata": {},
   "source": [
    "## Preprocess downloaded data"
   ]
  },
  {
   "cell_type": "code",
   "execution_count": 2,
   "id": "9c86bb02-386b-4a3f-9018-d8923bbf1de6",
   "metadata": {},
   "outputs": [
    {
     "data": {
      "application/vnd.jupyter.widget-view+json": {
       "model_id": "3e6cd5fac9e74eeea073c681695ba957",
       "version_major": 2,
       "version_minor": 0
      },
      "text/plain": [
       "0it [00:00, ?it/s]"
      ]
     },
     "metadata": {},
     "output_type": "display_data"
    },
    {
     "name": "stdout",
     "output_type": "stream",
     "text": [
      "Error reading data_2mins/20240515140202.csv\n",
      "Error reading data_2mins/20240525054752.csv\n",
      "Error reading data_2mins/20240520155837.csv\n",
      "Error reading data_2mins/20240510232222.csv\n",
      "Error reading data_2mins/20240525033128.csv\n",
      "Error reading data_2mins/20240525042337.csv\n",
      "Error reading data_2mins/20240525044540.csv\n",
      "Error reading data_2mins/20240525032928.csv\n",
      "CPU times: user 2min 11s, sys: 20.2 s, total: 2min 31s\n",
      "Wall time: 14min 32s\n"
     ]
    }
   ],
   "source": [
    "%%time\n",
    "data_dir = \"data_2mins\"\n",
    "\n",
    "df_list = list()\n",
    "for i, file in tqdm(enumerate(glob.glob(f\"{data_dir}/*.csv\"))):\n",
    "    try:\n",
    "        df_sub = pd.read_csv(file)\n",
    "        df_list.append(df_sub)\n",
    "    except:\n",
    "        print(f\"Error reading {file}\")\n",
    "        pass\n",
    "    \n",
    "df = pd.concat(df_list)"
   ]
  },
  {
   "cell_type": "markdown",
   "id": "800bc587-ac70-40a3-a4e6-10291aedfa61",
   "metadata": {},
   "source": [
    "## Check Data\n",
    "- sno(站點代號)\n",
    "- sna(場站中文名稱)、snaen(場站名稱英文)\n",
    "- sarea(場站區域)、sareaen(場站區域英文)\n",
    "- mday(資料更新時間)\n",
    "- ar(地點)、aren(地址英文)\n",
    "- latitude(緯度)、longitude(經度)\n",
    "- available_rent_bikes、available_return_bikes\n",
    "- srcUpdateTime(YouBike2.0系統發布資料更新的時間)、updateTime(大數據平台經過處理後將資料存入DB的時間)\n",
    "- infoTime(各場站來源資料更新時間)、infoDate(各場站來源資料更新時間)\n",
    "- tot(場站總停車格)、sbi(場站目前車輛數量)\n",
    "- lat(緯度)、lng(經度)\n",
    "- bemp(空位數量)、act(全站禁用狀態)"
   ]
  },
  {
   "cell_type": "code",
   "execution_count": 11,
   "id": "91afd156-1004-4f4e-8115-d3121baa0929",
   "metadata": {},
   "outputs": [
    {
     "data": {
      "text/html": [
       "<div>\n",
       "<style scoped>\n",
       "    .dataframe tbody tr th:only-of-type {\n",
       "        vertical-align: middle;\n",
       "    }\n",
       "\n",
       "    .dataframe tbody tr th {\n",
       "        vertical-align: top;\n",
       "    }\n",
       "\n",
       "    .dataframe thead th {\n",
       "        text-align: right;\n",
       "    }\n",
       "</style>\n",
       "<table border=\"1\" class=\"dataframe\">\n",
       "  <thead>\n",
       "    <tr style=\"text-align: right;\">\n",
       "      <th></th>\n",
       "      <th>sno</th>\n",
       "      <th>sna</th>\n",
       "      <th>sarea</th>\n",
       "      <th>mday</th>\n",
       "      <th>ar</th>\n",
       "      <th>sareaen</th>\n",
       "      <th>snaen</th>\n",
       "      <th>aren</th>\n",
       "      <th>act</th>\n",
       "      <th>srcUpdateTime</th>\n",
       "      <th>...</th>\n",
       "      <th>available_rent_bikes</th>\n",
       "      <th>latitude</th>\n",
       "      <th>longitude</th>\n",
       "      <th>available_return_bikes</th>\n",
       "      <th>tot</th>\n",
       "      <th>sbi</th>\n",
       "      <th>lat</th>\n",
       "      <th>lng</th>\n",
       "      <th>bemp</th>\n",
       "      <th>Unnamed: 0</th>\n",
       "    </tr>\n",
       "  </thead>\n",
       "  <tbody>\n",
       "    <tr>\n",
       "      <th>0</th>\n",
       "      <td>500101001.0</td>\n",
       "      <td>YouBike2.0_捷運科技大樓站</td>\n",
       "      <td>大安區</td>\n",
       "      <td>2024-05-04 00:52:13</td>\n",
       "      <td>復興南路二段235號前</td>\n",
       "      <td>Daan Dist.</td>\n",
       "      <td>YouBike2.0_MRT Technology Bldg. Sta.</td>\n",
       "      <td>No.235， Sec. 2， Fuxing S. Rd.</td>\n",
       "      <td>1.0</td>\n",
       "      <td>2024-05-04 03:15:23</td>\n",
       "      <td>...</td>\n",
       "      <td>0.0</td>\n",
       "      <td>25.02605</td>\n",
       "      <td>121.5436</td>\n",
       "      <td>28.0</td>\n",
       "      <td>NaN</td>\n",
       "      <td>NaN</td>\n",
       "      <td>NaN</td>\n",
       "      <td>NaN</td>\n",
       "      <td>NaN</td>\n",
       "      <td>NaN</td>\n",
       "    </tr>\n",
       "  </tbody>\n",
       "</table>\n",
       "<p>1 rows × 24 columns</p>\n",
       "</div>"
      ],
      "text/plain": [
       "           sno                 sna sarea                mday           ar  \\\n",
       "0  500101001.0  YouBike2.0_捷運科技大樓站   大安區 2024-05-04 00:52:13  復興南路二段235號前   \n",
       "\n",
       "      sareaen                                 snaen  \\\n",
       "0  Daan Dist.  YouBike2.0_MRT Technology Bldg. Sta.   \n",
       "\n",
       "                            aren  act       srcUpdateTime  ...  \\\n",
       "0  No.235， Sec. 2， Fuxing S. Rd.  1.0 2024-05-04 03:15:23  ...   \n",
       "\n",
       "  available_rent_bikes  latitude longitude  available_return_bikes  tot  sbi  \\\n",
       "0                  0.0  25.02605  121.5436                    28.0  NaN  NaN   \n",
       "\n",
       "   lat  lng  bemp  Unnamed: 0  \n",
       "0  NaN  NaN   NaN         NaN  \n",
       "\n",
       "[1 rows x 24 columns]"
      ]
     },
     "execution_count": 11,
     "metadata": {},
     "output_type": "execute_result"
    }
   ],
   "source": [
    "df.head(1)"
   ]
  },
  {
   "cell_type": "markdown",
   "id": "8750ad7b-fe61-459a-91ad-6ba9a1b6f03e",
   "metadata": {},
   "source": [
    "### Check NaN"
   ]
  },
  {
   "cell_type": "code",
   "execution_count": 12,
   "id": "8336650a-e148-43bf-b4ab-ae63bc47def7",
   "metadata": {},
   "outputs": [
    {
     "data": {
      "text/plain": [
       "sno                              0\n",
       "sna                              0\n",
       "sarea                            0\n",
       "mday                             0\n",
       "ar                               0\n",
       "sareaen                          0\n",
       "snaen                            0\n",
       "aren                             0\n",
       "act                              0\n",
       "srcUpdateTime                    0\n",
       "updateTime                       0\n",
       "infoTime                         0\n",
       "infoDate                         0\n",
       "total                       423900\n",
       "available_rent_bikes        423900\n",
       "latitude                    423900\n",
       "longitude                   423900\n",
       "available_return_bikes      423900\n",
       "tot                       22612982\n",
       "sbi                       22612982\n",
       "lat                       22612982\n",
       "lng                       22612982\n",
       "bemp                      22612982\n",
       "Unnamed: 0                23036882\n",
       "dtype: int64"
      ]
     },
     "execution_count": 12,
     "metadata": {},
     "output_type": "execute_result"
    }
   ],
   "source": [
    "df.isna().sum()\n",
    "# df.info()"
   ]
  },
  {
   "cell_type": "markdown",
   "id": "142c6670-56a1-40fc-ab1c-5602d3f471de",
   "metadata": {},
   "source": [
    "### Time Range"
   ]
  },
  {
   "cell_type": "code",
   "execution_count": 5,
   "id": "ad274b07-4227-42ee-b632-d4398d6ed982",
   "metadata": {},
   "outputs": [
    {
     "data": {
      "text/plain": [
       "('2024-05-03 07:56:26', '2024-05-27 00:00:31')"
      ]
     },
     "execution_count": 5,
     "metadata": {},
     "output_type": "execute_result"
    }
   ],
   "source": [
    "df['srcUpdateTime'].min(), df['srcUpdateTime'].max()"
   ]
  },
  {
   "cell_type": "markdown",
   "id": "12238bbc-56ea-401f-81d5-0b84dc31e0e4",
   "metadata": {},
   "source": [
    "## Preprocess Data Types"
   ]
  },
  {
   "cell_type": "code",
   "execution_count": 6,
   "id": "cd67123e-1ced-43e2-bd6a-02fc9643ef03",
   "metadata": {},
   "outputs": [],
   "source": [
    "# DateTime\n",
    "df['srcUpdateTime'] = pd.to_datetime(df['srcUpdateTime'])\n",
    "df['mday'] = pd.to_datetime(df['mday'])\n",
    "df['infoTime'] = pd.to_datetime(df['infoTime'])\n",
    "df['infoDate'] = pd.to_datetime(df['infoDate'])"
   ]
  },
  {
   "cell_type": "code",
   "execution_count": 7,
   "id": "d88efc78-5004-4527-a872-30a45d104adc",
   "metadata": {},
   "outputs": [
    {
     "data": {
      "text/plain": [
       "sno                              float64\n",
       "sna                               object\n",
       "sarea                             object\n",
       "mday                      datetime64[ns]\n",
       "ar                                object\n",
       "sareaen                           object\n",
       "snaen                             object\n",
       "aren                              object\n",
       "act                              float64\n",
       "srcUpdateTime             datetime64[ns]\n",
       "updateTime                        object\n",
       "infoTime                  datetime64[ns]\n",
       "infoDate                  datetime64[ns]\n",
       "total                            float64\n",
       "available_rent_bikes             float64\n",
       "latitude                         float64\n",
       "longitude                        float64\n",
       "available_return_bikes           float64\n",
       "tot                              float64\n",
       "sbi                              float64\n",
       "lat                              float64\n",
       "lng                              float64\n",
       "bemp                             float64\n",
       "Unnamed: 0                        object\n",
       "dtype: object"
      ]
     },
     "execution_count": 7,
     "metadata": {},
     "output_type": "execute_result"
    }
   ],
   "source": [
    "df.dtypes"
   ]
  },
  {
   "cell_type": "markdown",
   "id": "0f03d1ba-0d99-482d-8570-76ad75d288a4",
   "metadata": {},
   "source": [
    "## Filter Data"
   ]
  },
  {
   "cell_type": "markdown",
   "id": "72b55b15-641b-48b4-8a3a-baac605a2d8b",
   "metadata": {},
   "source": [
    "### By sarea"
   ]
  },
  {
   "cell_type": "code",
   "execution_count": 40,
   "id": "2c69eb37-d1bb-4555-832e-b35133f662fc",
   "metadata": {},
   "outputs": [],
   "source": [
    "# area: 大安區\n",
    "district = '臺大公館校區'\n",
    "mask = df[\"sarea\"].isin([district])\n",
    "df_area = df[mask]"
   ]
  },
  {
   "cell_type": "markdown",
   "id": "deb5602e-e4f4-4ec6-a836-8d8ee7b52a60",
   "metadata": {},
   "source": [
    "### By date"
   ]
  },
  {
   "cell_type": "code",
   "execution_count": 47,
   "id": "3a46ef99-f3ed-4151-b497-1c0787576d3d",
   "metadata": {},
   "outputs": [
    {
     "data": {
      "text/plain": [
       "(Timestamp('2024-05-06 00:01:30'), Timestamp('2024-05-12 23:58:22'), 231186)"
      ]
     },
     "execution_count": 47,
     "metadata": {},
     "output_type": "execute_result"
    }
   ],
   "source": [
    "# one day data\n",
    "start_date = '2024-05-06'\n",
    "end_date = pd.to_datetime(start_date) + pd.DateOffset(days=7)\n",
    "\n",
    "df_area_day = df_area.loc[(df_area['srcUpdateTime'] >= start_date) & (df_area['srcUpdateTime'] < end_date)]\n",
    "\n",
    "df_area_day['srcUpdateTime'].min(), df_area_day['srcUpdateTime'].max(), len(df_area_day)"
   ]
  },
  {
   "cell_type": "code",
   "execution_count": 48,
   "id": "5098d8e1-2398-49e4-8d7e-3968eeeb75f6",
   "metadata": {},
   "outputs": [
    {
     "data": {
      "text/plain": [
       "(231186, 863794, 23036882)"
      ]
     },
     "execution_count": 48,
     "metadata": {},
     "output_type": "execute_result"
    }
   ],
   "source": [
    "len(df_area_day), len(df_area), len(df)"
   ]
  },
  {
   "cell_type": "code",
   "execution_count": 49,
   "id": "36d56238-3706-49fd-b48d-107fa3ef4d40",
   "metadata": {},
   "outputs": [
    {
     "data": {
      "text/plain": [
       "4362"
      ]
     },
     "execution_count": 49,
     "metadata": {},
     "output_type": "execute_result"
    }
   ],
   "source": [
    "len(df_area_day[df_area_day['sno'] == 500119005])"
   ]
  },
  {
   "cell_type": "markdown",
   "id": "3f152dfe-e51a-4e03-98f3-14489b480b87",
   "metadata": {},
   "source": [
    "## Write filtered data to file\n",
    "- 大安區, 2024-05-13 ~ 2024-05-19"
   ]
  },
  {
   "cell_type": "code",
   "execution_count": 23,
   "id": "78c7c0ca-e795-4c1f-a78f-6c2124efd54e",
   "metadata": {},
   "outputs": [
    {
     "name": "stdout",
     "output_type": "stream",
     "text": [
      "Wrote 231186 data to merged_20240506000130_20240512235822_臺大公館校區_2mins_.csv.\n",
      "CPU times: user 2.92 s, sys: 67.6 ms, total: 2.99 s\n",
      "Wall time: 2.99 s\n"
     ]
    }
   ],
   "source": [
    "%%time\n",
    "df_area_day_sorted = df_area_day.sort_values(by=[\"srcUpdateTime\"])\n",
    "filename = f\"merged_{df_area_day['srcUpdateTime'].min()}_{df_area_day['srcUpdateTime'].max()}_{district}_2mins_.csv\"\n",
    "filename = re.sub(\":|-|\\s\", \"\", filename)\n",
    "\n",
    "df_area_day_sorted.to_csv(filename, index=False)\n",
    "\n",
    "print(f\"Wrote {len(df_area_day_sorted)} data to {filename}.\")"
   ]
  }
 ],
 "metadata": {
  "kernelspec": {
   "display_name": "Python 3 (ipykernel)",
   "language": "python",
   "name": "python3"
  },
  "language_info": {
   "codemirror_mode": {
    "name": "ipython",
    "version": 3
   },
   "file_extension": ".py",
   "mimetype": "text/x-python",
   "name": "python",
   "nbconvert_exporter": "python",
   "pygments_lexer": "ipython3",
   "version": "3.8.10"
  }
 },
 "nbformat": 4,
 "nbformat_minor": 5
}
