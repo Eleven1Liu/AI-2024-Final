{
 "cells": [
  {
   "cell_type": "code",
   "execution_count": 1,
   "id": "12d4e3c0-c5b8-4036-a9d0-7e0ffd9e6bb6",
   "metadata": {},
   "outputs": [],
   "source": [
    "import copy\n",
    "import collections\n",
    "import glob\n",
    "import re\n",
    "\n",
    "import pandas as pd\n",
    "from tqdm import tqdm\n",
    "import matplotlib.pyplot as plt\n",
    "\n",
    "from tqdm.notebook import tqdm"
   ]
  },
  {
   "cell_type": "markdown",
   "id": "3ed1744f-fb87-48e2-bdf8-e4db5d023338",
   "metadata": {},
   "source": [
    "## Preprocess downloaded data"
   ]
  },
  {
   "cell_type": "code",
   "execution_count": 2,
   "id": "9c86bb02-386b-4a3f-9018-d8923bbf1de6",
   "metadata": {},
   "outputs": [
    {
     "data": {
      "application/vnd.jupyter.widget-view+json": {
       "model_id": "db576776e2dc4c26a578a14091df38dd",
       "version_major": 2,
       "version_minor": 0
      },
      "text/plain": [
       "0it [00:00, ?it/s]"
      ]
     },
     "metadata": {},
     "output_type": "display_data"
    },
    {
     "name": "stdout",
     "output_type": "stream",
     "text": [
      "Error reading data_2mins/20240510232222.csv\n",
      "CPU times: user 1min 34s, sys: 12 s, total: 1min 46s\n",
      "Wall time: 3min 45s\n"
     ]
    }
   ],
   "source": [
    "%%time\n",
    "data_dir = \"data_2mins\"\n",
    "\n",
    "df_list = list()\n",
    "for i, file in tqdm(enumerate(glob.glob(f\"{data_dir}/*.csv\"))):\n",
    "    try:\n",
    "        df_sub = pd.read_csv(file)\n",
    "        df_list.append(df_sub)\n",
    "    except:\n",
    "        print(f\"Error reading {file}\")\n",
    "        pass\n",
    "    \n",
    "df = pd.concat(df_list)"
   ]
  },
  {
   "cell_type": "markdown",
   "id": "800bc587-ac70-40a3-a4e6-10291aedfa61",
   "metadata": {},
   "source": [
    "## Check Data\n",
    "- sno(站點代號)\n",
    "- sna(場站中文名稱)、snaen(場站名稱英文)\n",
    "- sarea(場站區域)、sareaen(場站區域英文)\n",
    "- mday(資料更新時間)\n",
    "- ar(地點)、aren(地址英文)\n",
    "- latitude(緯度)、longitude(經度)\n",
    "- available_rent_bikes、available_return_bikes\n",
    "- srcUpdateTime(YouBike2.0系統發布資料更新的時間)、updateTime(大數據平台經過處理後將資料存入DB的時間)\n",
    "- infoTime(各場站來源資料更新時間)、infoDate(各場站來源資料更新時間)\n",
    "- tot(場站總停車格)、sbi(場站目前車輛數量)\n",
    "- lat(緯度)、lng(經度)\n",
    "- bemp(空位數量)、act(全站禁用狀態)"
   ]
  },
  {
   "cell_type": "code",
   "execution_count": 3,
   "id": "91afd156-1004-4f4e-8115-d3121baa0929",
   "metadata": {},
   "outputs": [
    {
     "data": {
      "text/html": [
       "<div>\n",
       "<style scoped>\n",
       "    .dataframe tbody tr th:only-of-type {\n",
       "        vertical-align: middle;\n",
       "    }\n",
       "\n",
       "    .dataframe tbody tr th {\n",
       "        vertical-align: top;\n",
       "    }\n",
       "\n",
       "    .dataframe thead th {\n",
       "        text-align: right;\n",
       "    }\n",
       "</style>\n",
       "<table border=\"1\" class=\"dataframe\">\n",
       "  <thead>\n",
       "    <tr style=\"text-align: right;\">\n",
       "      <th></th>\n",
       "      <th>sno</th>\n",
       "      <th>sna</th>\n",
       "      <th>sarea</th>\n",
       "      <th>mday</th>\n",
       "      <th>ar</th>\n",
       "      <th>sareaen</th>\n",
       "      <th>snaen</th>\n",
       "      <th>aren</th>\n",
       "      <th>act</th>\n",
       "      <th>srcUpdateTime</th>\n",
       "      <th>...</th>\n",
       "      <th>total</th>\n",
       "      <th>available_rent_bikes</th>\n",
       "      <th>latitude</th>\n",
       "      <th>longitude</th>\n",
       "      <th>available_return_bikes</th>\n",
       "      <th>tot</th>\n",
       "      <th>sbi</th>\n",
       "      <th>lat</th>\n",
       "      <th>lng</th>\n",
       "      <th>bemp</th>\n",
       "    </tr>\n",
       "  </thead>\n",
       "  <tbody>\n",
       "    <tr>\n",
       "      <th>0</th>\n",
       "      <td>500101001</td>\n",
       "      <td>YouBike2.0_捷運科技大樓站</td>\n",
       "      <td>大安區</td>\n",
       "      <td>2024-05-04 00:52:13</td>\n",
       "      <td>復興南路二段235號前</td>\n",
       "      <td>Daan Dist.</td>\n",
       "      <td>YouBike2.0_MRT Technology Bldg. Sta.</td>\n",
       "      <td>No.235， Sec. 2， Fuxing S. Rd.</td>\n",
       "      <td>1</td>\n",
       "      <td>2024-05-04 03:15:23</td>\n",
       "      <td>...</td>\n",
       "      <td>28.0</td>\n",
       "      <td>0.0</td>\n",
       "      <td>25.02605</td>\n",
       "      <td>121.5436</td>\n",
       "      <td>28.0</td>\n",
       "      <td>NaN</td>\n",
       "      <td>NaN</td>\n",
       "      <td>NaN</td>\n",
       "      <td>NaN</td>\n",
       "      <td>NaN</td>\n",
       "    </tr>\n",
       "  </tbody>\n",
       "</table>\n",
       "<p>1 rows × 23 columns</p>\n",
       "</div>"
      ],
      "text/plain": [
       "         sno                 sna sarea                 mday           ar  \\\n",
       "0  500101001  YouBike2.0_捷運科技大樓站   大安區  2024-05-04 00:52:13  復興南路二段235號前   \n",
       "\n",
       "      sareaen                                 snaen  \\\n",
       "0  Daan Dist.  YouBike2.0_MRT Technology Bldg. Sta.   \n",
       "\n",
       "                            aren  act        srcUpdateTime  ... total  \\\n",
       "0  No.235， Sec. 2， Fuxing S. Rd.    1  2024-05-04 03:15:23  ...  28.0   \n",
       "\n",
       "  available_rent_bikes  latitude  longitude  available_return_bikes  tot  sbi  \\\n",
       "0                  0.0  25.02605   121.5436                    28.0  NaN  NaN   \n",
       "\n",
       "   lat  lng  bemp  \n",
       "0  NaN  NaN   NaN  \n",
       "\n",
       "[1 rows x 23 columns]"
      ]
     },
     "execution_count": 3,
     "metadata": {},
     "output_type": "execute_result"
    }
   ],
   "source": [
    "df.head(1)"
   ]
  },
  {
   "cell_type": "markdown",
   "id": "8750ad7b-fe61-459a-91ad-6ba9a1b6f03e",
   "metadata": {},
   "source": [
    "### Check NaN"
   ]
  },
  {
   "cell_type": "code",
   "execution_count": 4,
   "id": "8336650a-e148-43bf-b4ab-ae63bc47def7",
   "metadata": {},
   "outputs": [
    {
     "data": {
      "text/plain": [
       "sno                              0\n",
       "sna                              0\n",
       "sarea                            0\n",
       "mday                             0\n",
       "ar                               0\n",
       "sareaen                          0\n",
       "snaen                            0\n",
       "aren                             0\n",
       "act                              0\n",
       "srcUpdateTime                    0\n",
       "updateTime                       0\n",
       "infoTime                         0\n",
       "infoDate                         0\n",
       "total                       423900\n",
       "available_rent_bikes        423900\n",
       "latitude                    423900\n",
       "longitude                   423900\n",
       "available_return_bikes      423900\n",
       "tot                       16058638\n",
       "sbi                       16058638\n",
       "lat                       16058638\n",
       "lng                       16058638\n",
       "bemp                      16058638\n",
       "dtype: int64"
      ]
     },
     "execution_count": 4,
     "metadata": {},
     "output_type": "execute_result"
    }
   ],
   "source": [
    "df.isna().sum()\n",
    "# df.info()"
   ]
  },
  {
   "cell_type": "markdown",
   "id": "142c6670-56a1-40fc-ab1c-5602d3f471de",
   "metadata": {},
   "source": [
    "### Time Range"
   ]
  },
  {
   "cell_type": "code",
   "execution_count": 5,
   "id": "ad274b07-4227-42ee-b632-d4398d6ed982",
   "metadata": {},
   "outputs": [
    {
     "data": {
      "text/plain": [
       "('2024-05-03 07:56:26', '2024-05-20 12:49:24')"
      ]
     },
     "execution_count": 5,
     "metadata": {},
     "output_type": "execute_result"
    }
   ],
   "source": [
    "df['srcUpdateTime'].min(), df['srcUpdateTime'].max()"
   ]
  },
  {
   "cell_type": "markdown",
   "id": "12238bbc-56ea-401f-81d5-0b84dc31e0e4",
   "metadata": {},
   "source": [
    "## Preprocess Data Types"
   ]
  },
  {
   "cell_type": "code",
   "execution_count": 6,
   "id": "cd67123e-1ced-43e2-bd6a-02fc9643ef03",
   "metadata": {},
   "outputs": [],
   "source": [
    "# DateTime\n",
    "df['srcUpdateTime'] = pd.to_datetime(df['srcUpdateTime'])\n",
    "df['mday'] = pd.to_datetime(df['mday'])\n",
    "df['infoTime'] = pd.to_datetime(df['infoTime'])\n",
    "df['infoDate'] = pd.to_datetime(df['infoDate'])"
   ]
  },
  {
   "cell_type": "code",
   "execution_count": 7,
   "id": "d88efc78-5004-4527-a872-30a45d104adc",
   "metadata": {},
   "outputs": [
    {
     "data": {
      "text/plain": [
       "sno                                int64\n",
       "sna                               object\n",
       "sarea                             object\n",
       "mday                      datetime64[ns]\n",
       "ar                                object\n",
       "sareaen                           object\n",
       "snaen                             object\n",
       "aren                              object\n",
       "act                                int64\n",
       "srcUpdateTime             datetime64[ns]\n",
       "updateTime                        object\n",
       "infoTime                  datetime64[ns]\n",
       "infoDate                  datetime64[ns]\n",
       "total                            float64\n",
       "available_rent_bikes             float64\n",
       "latitude                         float64\n",
       "longitude                        float64\n",
       "available_return_bikes           float64\n",
       "tot                              float64\n",
       "sbi                              float64\n",
       "lat                              float64\n",
       "lng                              float64\n",
       "bemp                             float64\n",
       "dtype: object"
      ]
     },
     "execution_count": 7,
     "metadata": {},
     "output_type": "execute_result"
    }
   ],
   "source": [
    "df.dtypes"
   ]
  },
  {
   "cell_type": "markdown",
   "id": "0f03d1ba-0d99-482d-8570-76ad75d288a4",
   "metadata": {},
   "source": [
    "## Filter Data"
   ]
  },
  {
   "cell_type": "markdown",
   "id": "72b55b15-641b-48b4-8a3a-baac605a2d8b",
   "metadata": {},
   "source": [
    "### By sarea"
   ]
  },
  {
   "cell_type": "code",
   "execution_count": 8,
   "id": "2c69eb37-d1bb-4555-832e-b35133f662fc",
   "metadata": {},
   "outputs": [],
   "source": [
    "# area: 大安區\n",
    "mask = df[\"sarea\"].isin(['大安區'])\n",
    "df_area = df[mask]"
   ]
  },
  {
   "cell_type": "markdown",
   "id": "deb5602e-e4f4-4ec6-a836-8d8ee7b52a60",
   "metadata": {},
   "source": [
    "### By date"
   ]
  },
  {
   "cell_type": "code",
   "execution_count": 9,
   "id": "3a46ef99-f3ed-4151-b497-1c0787576d3d",
   "metadata": {},
   "outputs": [
    {
     "data": {
      "text/plain": [
       "(Timestamp('2024-05-13 00:00:31'), Timestamp('2024-05-19 23:59:23'), 900720)"
      ]
     },
     "execution_count": 9,
     "metadata": {},
     "output_type": "execute_result"
    }
   ],
   "source": [
    "# one day data\n",
    "start_date = '2024-05-13'\n",
    "end_date = pd.to_datetime(start_date) + pd.DateOffset(days=7)\n",
    "\n",
    "df_area_day = df_area.loc[(df_area['srcUpdateTime'] >= start_date) & (df_area['srcUpdateTime'] < end_date)]\n",
    "\n",
    "df_area_day['srcUpdateTime'].min(), df_area_day['srcUpdateTime'].max(), len(df_area_day)"
   ]
  },
  {
   "cell_type": "code",
   "execution_count": 10,
   "id": "5098d8e1-2398-49e4-8d7e-3968eeeb75f6",
   "metadata": {},
   "outputs": [
    {
     "data": {
      "text/plain": [
       "(900720, 2099520, 16482538)"
      ]
     },
     "execution_count": 10,
     "metadata": {},
     "output_type": "execute_result"
    }
   ],
   "source": [
    "len(df_area_day), len(df_area), len(df)"
   ]
  },
  {
   "cell_type": "markdown",
   "id": "3f152dfe-e51a-4e03-98f3-14489b480b87",
   "metadata": {},
   "source": [
    "## Write filtered data to file\n",
    "- 大安區, 2024-05-13 ~ 2024-05-19"
   ]
  },
  {
   "cell_type": "code",
   "execution_count": 12,
   "id": "78c7c0ca-e795-4c1f-a78f-6c2124efd54e",
   "metadata": {},
   "outputs": [
    {
     "name": "stdout",
     "output_type": "stream",
     "text": [
      "Wrote 900720 data to merged_20240513000031_20240519235923_2mins.csv.\n",
      "CPU times: user 10.9 s, sys: 699 ms, total: 11.6 s\n",
      "Wall time: 11.7 s\n"
     ]
    }
   ],
   "source": [
    "%%time\n",
    "df_area_day_sorted = df_area_day.sort_values(by=[\"srcUpdateTime\"])\n",
    "filename = f\"merged_{df_area_day['srcUpdateTime'].min()}_{df_area_day['srcUpdateTime'].max()}_2mins.csv\"\n",
    "filename = re.sub(\":|-|\\s\", \"\", filename)\n",
    "\n",
    "df_area_day_sorted.to_csv(filename)\n",
    "\n",
    "print(f\"Wrote {len(df_area_day_sorted)} data to {filename}.\")"
   ]
  },
  {
   "cell_type": "code",
   "execution_count": null,
   "id": "2e74f697-833a-47bd-84f0-adfbc2a885c5",
   "metadata": {},
   "outputs": [],
   "source": []
  }
 ],
 "metadata": {
  "kernelspec": {
   "display_name": "Python 3 (ipykernel)",
   "language": "python",
   "name": "python3"
  },
  "language_info": {
   "codemirror_mode": {
    "name": "ipython",
    "version": 3
   },
   "file_extension": ".py",
   "mimetype": "text/x-python",
   "name": "python",
   "nbconvert_exporter": "python",
   "pygments_lexer": "ipython3",
   "version": "3.8.10"
  }
 },
 "nbformat": 4,
 "nbformat_minor": 5
}
